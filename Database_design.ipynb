{
 "cells": [
  {
   "cell_type": "code",
   "execution_count": null,
   "id": "7c283def",
   "metadata": {},
   "outputs": [],
   "source": [
    "%pip install mysql-connector-python"
   ]
  },
  {
   "cell_type": "code",
   "execution_count": 3,
   "id": "89f4f68b",
   "metadata": {},
   "outputs": [],
   "source": [
    "import mysql.connector\n",
    "import pandas as pd"
   ]
  },
  {
   "cell_type": "code",
   "execution_count": 4,
   "id": "c6d0ba46",
   "metadata": {},
   "outputs": [],
   "source": [
    "# creating connection between python and mysql\n",
    "connection=mysql.connector.connect(\n",
    "    host=\"localhost\",\n",
    "    user=\"root\",\n",
    "    password=\"password\",\n",
    "    database=\"secure_check\"\n",
    ")\n",
    "cursor=connection.cursor()"
   ]
  },
  {
   "cell_type": "code",
   "execution_count": null,
   "id": "045c724d",
   "metadata": {},
   "outputs": [],
   "source": [
    "# creating a database schema\n",
    "query=\"create database secure_check\"\n",
    "cursor.execute(query)"
   ]
  },
  {
   "cell_type": "code",
   "execution_count": null,
   "id": "e9b30e7b",
   "metadata": {},
   "outputs": [],
   "source": [
    "# show databases\n",
    "query=(\"show databases\") \n",
    "cursor.execute(query)\n",
    "for db in cursor:\n",
    "    print(db)"
   ]
  },
  {
   "cell_type": "code",
   "execution_count": 69,
   "id": "eb338197",
   "metadata": {},
   "outputs": [],
   "source": [
    "#Creating a Table police_logs\n",
    "query=\"\"\"create table police_logs(\n",
    "Stop_Date DATE,\n",
    "Stop_time TIME, Country_name VARCHAR(50),\n",
    "Driver_gender VARCHAR(20),Driver_age_raw INT,\n",
    "Driver_age INT,Driver_race VARCHAR(50),\n",
    "Violation_raw VARCHAR(50), Violation VARCHAR(50),\n",
    "Search_conducted BOOLEAN, Search_type VARCHAR(100),\n",
    "Stop_outcome VARCHAR(50), is_arrested BOOLEAN,\n",
    "Stop_duration VARCHAR(50), Drugs_related_stop BOOLEAN,\n",
    "Vehicle_Number VARCHAR(100))\"\"\"\n",
    "cursor.execute(query)\n"
   ]
  },
  {
   "cell_type": "code",
   "execution_count": null,
   "id": "6cbfc55f",
   "metadata": {},
   "outputs": [],
   "source": [
    "#drop the table \n",
    "query=\"DROP table police_logs\"\n",
    "cursor.execute(query)"
   ]
  },
  {
   "cell_type": "code",
   "execution_count": 70,
   "id": "351993da",
   "metadata": {},
   "outputs": [],
   "source": [
    "# drop columns that are not used\n",
    "query = \"\"\"\n",
    "ALTER TABLE police_logs\n",
    "DROP COLUMN Driver_age_raw,\n",
    "DROP COLUMN Violation_raw;\n",
    "\"\"\"\n",
    "cursor.execute(query)\n"
   ]
  },
  {
   "cell_type": "code",
   "execution_count": 71,
   "id": "26d871ca",
   "metadata": {},
   "outputs": [],
   "source": [
    "connection.commit()"
   ]
  },
  {
   "cell_type": "code",
   "execution_count": null,
   "id": "68962895",
   "metadata": {},
   "outputs": [],
   "source": [
    "# To view the columns in the table\n",
    "query=\"describe police_logs\"\n",
    "cursor.execute(query)\n",
    "for data in cursor:\n",
    "    print(data)"
   ]
  },
  {
   "cell_type": "code",
   "execution_count": null,
   "id": "f703621d",
   "metadata": {},
   "outputs": [],
   "source": [
    "# Cleaning the dataset before inserting Value from csv to sql using python\n",
    "\n",
    "#read the csv file\n",
    "df=pd.read_csv(r\"C:\\DataScience_project1_Policelogs\\traffic_stops - traffic_stops_with_vehicle_number.csv\")\n"
   ]
  },
  {
   "cell_type": "code",
   "execution_count": 74,
   "id": "9f246334",
   "metadata": {},
   "outputs": [],
   "source": [
    "#Remove the columns that only contains missing value\n",
    "df.dropna(axis=1,how='all',inplace=True)"
   ]
  },
  {
   "cell_type": "code",
   "execution_count": null,
   "id": "9316a6fe",
   "metadata": {},
   "outputs": [],
   "source": [
    "# Check the sum of NAN values in the column\n",
    "df.isnull().sum()"
   ]
  },
  {
   "cell_type": "code",
   "execution_count": null,
   "id": "103378d4",
   "metadata": {},
   "outputs": [],
   "source": [
    "#Handle the NAN value\n",
    "df['search_type'] = df['search_type'].fillna('Unknown')\n",
    "df"
   ]
  },
  {
   "cell_type": "code",
   "execution_count": 77,
   "id": "b98f7336",
   "metadata": {},
   "outputs": [],
   "source": [
    "# Drop Unnecessary Columns\n",
    "df.drop(['driver_age_raw', 'violation_raw'], axis=1, inplace=True)"
   ]
  },
  {
   "cell_type": "code",
   "execution_count": null,
   "id": "c542cc86",
   "metadata": {},
   "outputs": [],
   "source": [
    "#Check for cleaned DataFrame\n",
    "df.info()"
   ]
  },
  {
   "cell_type": "code",
   "execution_count": null,
   "id": "6a923fb5",
   "metadata": {},
   "outputs": [],
   "source": [
    "# Inserting Pandas dataframe into Mysql table\n",
    "\n",
    "insert_query = \"\"\"\n",
    "INSERT INTO police_logs (\n",
    "    Stop_Date, Stop_time, Country_name, Driver_gender, Driver_age,\n",
    "    Driver_race, Violation, Search_conducted, Search_type,\n",
    "    Stop_outcome, is_arrested, Stop_duration, Drugs_related_stop,\n",
    "    Vehicle_Number\n",
    ")\n",
    "VALUES (%s, %s, %s, %s, %s, %s, %s, %s, %s, %s, %s, %s, %s, %s)\n",
    "\"\"\"\n",
    "cursor.executemany(insert_query, df.values.tolist())\n",
    "connection.commit()\n",
    "print(\"Data inserted using executemany()\")\n"
   ]
  },
  {
   "cell_type": "code",
   "execution_count": 82,
   "id": "590a4d79",
   "metadata": {},
   "outputs": [
    {
     "name": "stdout",
     "output_type": "stream",
     "text": [
      "(65538,)\n"
     ]
    }
   ],
   "source": [
    "# To view the records inside the table police_logs\n",
    "query=\"select count(*) from police_logs\"\n",
    "cursor.execute(query)\n",
    "for data in cursor:\n",
    "    print(data)"
   ]
  },
  {
   "cell_type": "markdown",
   "id": "2a75dba3",
   "metadata": {},
   "source": [
    "SQL QUERIES MEDIUM LEVEL "
   ]
  },
  {
   "cell_type": "code",
   "execution_count": null,
   "id": "1397cf7c",
   "metadata": {},
   "outputs": [],
   "source": [
    "# Vehicle based\n",
    "\n",
    "#What are the top 10 vehicles involved in drug-related stops?\n",
    "\n",
    "query=\"\"\"SELECT Vehicle_Number, COUNT(*) AS drug_stop_count\n",
    "FROM police_logs\n",
    "WHERE drugs_related_stop = TRUE\n",
    "GROUP BY Vehicle_Number\n",
    "ORDER BY drug_stop_count DESC\n",
    "LIMIT 10;\"\"\"\n",
    "cursor.execute(query)\n",
    "for data in cursor:\n",
    "    print(data)\n",
    "\n"
   ]
  },
  {
   "cell_type": "code",
   "execution_count": null,
   "id": "e56fcaf5",
   "metadata": {},
   "outputs": [],
   "source": [
    "#Which vehicles were most frequently searched?\n",
    "query=\"\"\"SELECT Vehicle_Number,count(*) as search_count\n",
    "FROM police_logs\n",
    "WHERE search_conducted = TRUE\n",
    "GROUP BY Vehicle_Number\n",
    "ORDER BY search_count DESC\n",
    "\"\"\"\n",
    "cursor.execute(query)\n",
    "for data in cursor:\n",
    "    print(data) "
   ]
  },
  {
   "cell_type": "markdown",
   "id": "fc4af61d",
   "metadata": {},
   "source": [
    "#Demographic-Based\n"
   ]
  },
  {
   "cell_type": "code",
   "execution_count": 11,
   "id": "ab9639a5",
   "metadata": {},
   "outputs": [
    {
     "name": "stdout",
     "output_type": "stream",
     "text": [
      "('18-25', 8137, Decimal('4171'), Decimal('51.2597'))\n"
     ]
    }
   ],
   "source": [
    "#Which driver age group had the highest arrest rate?\n",
    "query=\"\"\"SELECT CASE WHEN driver_age < 18 THEN '<18'\n",
    "WHEN driver_age BETWEEN 18 AND 25 THEN '18-25'\n",
    "WHEN driver_age BETWEEN 26 AND 35 THEN '26-35'\n",
    "WHEN driver_age BETWEEN 36 AND 45 THEN '36-45'\n",
    "WHEN driver_age BETWEEN 46 AND 55 THEN '46-55'\n",
    "WHEN driver_age BETWEEN 56 AND 65 THEN '56-65'\n",
    "ELSE '65+'\n",
    "END AS driver_age_group,\n",
    "count(*) as total_stops,\n",
    "sum(CASE when is_arrested= TRUE then 1 else 0 END) AS TOTAL_ARREST,\n",
    "Round(sum(CASE when is_arrested= TRUE then 1 else 0 END)*100/count(*),4) AS ARREST_RATE\n",
    "FROM police_logs\n",
    "group by driver_age_group\n",
    "order by arrest_rate desc\n",
    "limit 1\"\"\";\n",
    "cursor.execute(query)\n",
    "for data in cursor:\n",
    "    print(data)\n"
   ]
  },
  {
   "cell_type": "code",
   "execution_count": 105,
   "id": "44271b2c",
   "metadata": {},
   "outputs": [
    {
     "name": "stdout",
     "output_type": "stream",
     "text": [
      "('Canada', 'F', 10997)\n",
      "('Canada', 'M', 10911)\n",
      "('India', 'F', 11043)\n",
      "('India', 'M', 10955)\n",
      "('USA', 'F', 10841)\n",
      "('USA', 'M', 10791)\n"
     ]
    }
   ],
   "source": [
    "#What is the gender distribution of drivers stopped in each country?\n",
    "query=\"\"\"SELECT country_name, driver_gender, COUNT(*) AS total_stop_count\n",
    "FROM police_logs\n",
    "GROUP BY country_name, driver_gender\n",
    "ORDER BY country_name, driver_gender\"\"\"\n",
    "cursor.execute(query)\n",
    "for data in cursor:\n",
    "    print(data)"
   ]
  },
  {
   "cell_type": "code",
   "execution_count": 146,
   "id": "b1ca1cbb",
   "metadata": {},
   "outputs": [
    {
     "name": "stdout",
     "output_type": "stream",
     "text": [
      "('Asian', 'F', 6649, Decimal('3410'), Decimal('51.29'))\n"
     ]
    }
   ],
   "source": [
    "#Which race and gender combination has the highest search rate?\n",
    "\n",
    "query=\"\"\"SELECT driver_race, driver_gender,COUNT(*) AS stop_count,\n",
    "SUM(CASE WHEN search_conducted = TRUE THEN 1 ELSE 0 END) AS total_searches,\n",
    "round(100*(SUM(CASE WHEN search_conducted = TRUE THEN 1 ELSE 0 END)/ COUNT(*)),2) AS search_rate\n",
    "FROM police_logs GROUP BY driver_race, driver_gender ORDER BY search_rate DESC LIMIT 1 \"\"\"\n",
    "cursor.execute(query)\n",
    "for data in cursor:\n",
    "    print(data)"
   ]
  },
  {
   "cell_type": "markdown",
   "id": "a2eb9c3c",
   "metadata": {},
   "source": [
    "Time & Duration Based"
   ]
  },
  {
   "cell_type": "code",
   "execution_count": 154,
   "id": "8f82801f",
   "metadata": {},
   "outputs": [
    {
     "name": "stdout",
     "output_type": "stream",
     "text": [
      "(23, 2700, 'Night')\n"
     ]
    }
   ],
   "source": [
    "#What time of day sees the most traffic stops?\n",
    "query=\"\"\"SELECT hour(stop_time) as Hour_of_the_day, count(*) as total_stops,\n",
    "CASE WHEN HOUR(Stop_time) BETWEEN 5 AND 11 THEN 'Morning'\n",
    "WHEN HOUR(Stop_time) BETWEEN 12 AND 15 THEN 'Afternoon'\n",
    "WHEN HOUR(Stop_time) BETWEEN 16 AND 19 THEN 'Evening'\n",
    "ELSE 'Night'\n",
    "END AS time_of_day\n",
    "from police_logs\n",
    "GROUP BY hour(stop_time),time_of_day\n",
    "ORDER BY hour(stop_time) desc\n",
    "LIMIT 1\n",
    "\"\"\"\n",
    "cursor.execute(query)\n",
    "for data in cursor:\n",
    "    print(data)\n"
   ]
  },
  {
   "cell_type": "code",
   "execution_count": 191,
   "id": "89549404",
   "metadata": {},
   "outputs": [
    {
     "name": "stdout",
     "output_type": "stream",
     "text": [
      "('DUI', Decimal('21.74134'), 13075)\n",
      "('Other', Decimal('22.20331'), 13194)\n",
      "('Seatbelt', Decimal('21.83321'), 13007)\n",
      "('Signal', Decimal('21.71210'), 13112)\n",
      "('Speeding', Decimal('21.79449'), 13150)\n"
     ]
    }
   ],
   "source": [
    "#What is the average stop duration for different violations?\n",
    "\n",
    "query=\"\"\"SELECT VIOLATION,\n",
    "avg(CASE WHEN STOP_DURATION=\"0-15 Min\" THEN 7.5 \n",
    "WHEN STOP_DURATION=\"16-30 Min\" THEN 23\n",
    "WHEN STOP_DURATION=\"30+ Min\" THEN 35\n",
    "END) AS avg_duration,COUNT(*) AS TOTAL_STOPS\n",
    "FROM POLICE_LOGS\n",
    "GROUP BY VIOLATION\n",
    "ORDER BY violation\n",
    "\"\"\"\n",
    "cursor.execute(query)\n",
    "for data in cursor:\n",
    "    print(data)\n"
   ]
  },
  {
   "cell_type": "code",
   "execution_count": null,
   "id": "852b1b18",
   "metadata": {},
   "outputs": [
    {
     "name": "stdout",
     "output_type": "stream",
     "text": [
      "('MORNING', 19320, Decimal('9814'), Decimal('50.80'))\n",
      "('NIGHT', 43458, Decimal('21672'), Decimal('49.87'))\n",
      "('EVENING', 2760, Decimal('1360'), Decimal('49.28'))\n"
     ]
    }
   ],
   "source": [
    "#Are stops during the night more likely to lead to arrests?\n",
    "query= \"\"\"SELECT CASE \n",
    "WHEN HOUR(STOP_TIME) BETWEEN 5 AND 11 THEN 'MORNING'\n",
    "WHEN HOUR(STOP_TIME) BETWEEN 12 AND 3 THEN 'AFTERNOON'\n",
    "WHEN HOUR(STOP_TIME) BETWEEN 4 AND 7 THEN 'EVENING'\n",
    "ELSE 'NIGHT' END AS TIME_OF_THE_DAY,\n",
    "COUNT(*) AS TOTAL_STOPS,\n",
    "SUM(CASE WHEN IS_ARRESTED=TRUE THEN 1 ELSE 0 END) AS TOTAL_ARREST,\n",
    "ROUND(SUM(CASE WHEN IS_ARRESTED=TRUE THEN 1 ELSE 0 END)*100/COUNT(*),2) AS ARREST_RATE\n",
    "FROM POLICE_LOGS\n",
    "GROUP BY TIME_OF_THE_DAY\n",
    "ORDER BY ARREST_RATE DESC\n",
    "\"\"\"\n",
    "cursor.execute(query)\n",
    "for data in cursor:\n",
    "    print(data)"
   ]
  },
  {
   "cell_type": "markdown",
   "id": "81197a85",
   "metadata": {},
   "source": [
    "Violation-Based\n"
   ]
  },
  {
   "cell_type": "code",
   "execution_count": 257,
   "id": "7ff0d2ed",
   "metadata": {},
   "outputs": [
    {
     "name": "stdout",
     "output_type": "stream",
     "text": [
      "('Other', 13194, Decimal('6576'), Decimal('6516'))\n",
      "('Speeding', 13150, Decimal('6573'), Decimal('6598'))\n",
      "('Seatbelt', 13007, Decimal('6562'), Decimal('6573'))\n",
      "('Signal', 13112, Decimal('6509'), Decimal('6549'))\n",
      "('DUI', 13075, Decimal('6481'), Decimal('6610'))\n"
     ]
    }
   ],
   "source": [
    "#Which violations are most associated with searches or arrests?\n",
    "\n",
    "query=\"\"\"SELECT VIOLATION,COUNT(*) AS TOTAL_STOPS,\n",
    "SUM(CASE WHEN SEARCH_CONDUCTED= TRUE THEN 1 ELSE 0 END) AS TOTAL_SEARCH,\n",
    "SUM(CASE WHEN IS_ARRESTED= TRUE THEN 1 ELSE 0 END) AS TOTAL_ARREST\n",
    "FROM POLICE_LOGS\n",
    "GROUP BY VIOLATION\n",
    "ORDER BY TOTAL_SEARCH DESC,TOTAL_ARREST DESC\n",
    "\"\"\"\n",
    "cursor.execute(query)\n",
    "for data in cursor:\n",
    "    print(data)"
   ]
  },
  {
   "cell_type": "code",
   "execution_count": 258,
   "id": "213584e0",
   "metadata": {},
   "outputs": [
    {
     "name": "stdout",
     "output_type": "stream",
     "text": [
      "('DUI', 13075, Decimal('6481'), Decimal('6610'))\n",
      "('Speeding', 13150, Decimal('6573'), Decimal('6598'))\n",
      "('Seatbelt', 13007, Decimal('6562'), Decimal('6573'))\n",
      "('Signal', 13112, Decimal('6509'), Decimal('6549'))\n",
      "('Other', 13194, Decimal('6576'), Decimal('6516'))\n"
     ]
    }
   ],
   "source": [
    "query=\"\"\"SELECT VIOLATION,COUNT(*) AS TOTAL_STOPS,\n",
    "SUM(CASE WHEN SEARCH_CONDUCTED= TRUE THEN 1 ELSE 0 END) AS TOTAL_SEARCH,\n",
    "SUM(CASE WHEN IS_ARRESTED= TRUE THEN 1 ELSE 0 END) AS TOTAL_ARREST\n",
    "FROM POLICE_LOGS\n",
    "GROUP BY VIOLATION\n",
    "ORDER BY TOTAL_ARREST DESC,TOTAL_SEARCH DESC\n",
    "\"\"\"\n",
    "cursor.execute(query)\n",
    "for data in cursor:\n",
    "    print(data)"
   ]
  },
  {
   "cell_type": "code",
   "execution_count": 256,
   "id": "aa6eeb04",
   "metadata": {},
   "outputs": [
    {
     "name": "stdout",
     "output_type": "stream",
     "text": [
      "('Speeding', 1476)\n"
     ]
    }
   ],
   "source": [
    "#Which violations are most common among younger drivers (<25)?\n",
    "query=\"\"\"SELECT VIOLATION,COUNT(*) AS YOUNG_DRIVERS_COUNT\n",
    "FROM POLICE_LOGS\n",
    "WHERE DRIVER_AGE<25\n",
    "GROUP BY VIOLATION\n",
    "ORDER BY YOUNG_DRIVERS_COUNT DESC\n",
    "LIMIT 1\n",
    "\"\"\"\n",
    "cursor.execute(query)\n",
    "for data in cursor:\n",
    "    print(data)"
   ]
  },
  {
   "cell_type": "code",
   "execution_count": 267,
   "id": "5fc28fd5",
   "metadata": {},
   "outputs": [
    {
     "name": "stdout",
     "output_type": "stream",
     "text": [
      "('Other', 13194, Decimal('6576'), Decimal('6516'), Decimal('99.23'))\n"
     ]
    }
   ],
   "source": [
    "#Is there a violation that rarely results in search or arrest?\n",
    "query=\"\"\"SELECT violation,COUNT(*) AS total_stops,\n",
    "SUM(CASE WHEN search_conducted = TRUE THEN 1 ELSE 0 END) AS total_searches,\n",
    "SUM(CASE WHEN is_arrested = TRUE THEN 1 ELSE 0 END) AS total_arrests,\n",
    "ROUND(100.0 * (SUM(CASE WHEN search_conducted = TRUE THEN 1 ELSE 0 END) + \n",
    "                   SUM(CASE WHEN is_arrested = TRUE THEN 1 ELSE 0 END)) / COUNT(*), 2) AS combined_rate_percent\n",
    "FROM police_logs\n",
    "GROUP BY violation\n",
    "ORDER BY combined_rate_percent ASC\n",
    "LIMIT 1\n",
    "\"\"\"\n",
    "cursor.execute(query)\n",
    "for data in cursor:\n",
    "    print(data)"
   ]
  },
  {
   "cell_type": "markdown",
   "id": "2b8ceb9a",
   "metadata": {},
   "source": [
    "Location-Based\n"
   ]
  },
  {
   "cell_type": "code",
   "execution_count": 272,
   "id": "3c355b87",
   "metadata": {},
   "outputs": [
    {
     "name": "stdout",
     "output_type": "stream",
     "text": [
      "('USA', 21632, Decimal('50.37'))\n"
     ]
    }
   ],
   "source": [
    "#Which countries report the highest rate of drug-related stops?\n",
    "query=\"\"\"select country_name,count(*) as total_stops,\n",
    "Round(100*sum(case when drugs_related_stop=TRUE then 1 else 0 end)/count(*),2) as drugs_stop_percentage\n",
    "from police_logs\n",
    "group by country_name\n",
    "order by drugs_stop_percentage desc\n",
    "limit 1\n",
    "\"\"\"\n",
    "cursor.execute(query)\n",
    "for data in cursor:\n",
    "    print(data)"
   ]
  },
  {
   "cell_type": "code",
   "execution_count": 274,
   "id": "8a5779dd",
   "metadata": {},
   "outputs": [
    {
     "name": "stdout",
     "output_type": "stream",
     "text": [
      "(Decimal('51.13'), 'Canada', 'DUI', 4414)\n",
      "(Decimal('50.84'), 'India', 'DUI', 4420)\n",
      "(Decimal('50.76'), 'India', 'Speeding', 4358)\n",
      "(Decimal('50.65'), 'India', 'Signal', 4444)\n",
      "(Decimal('50.58'), 'USA', 'Seatbelt', 4241)\n",
      "(Decimal('50.56'), 'India', 'Seatbelt', 4345)\n",
      "(Decimal('50.46'), 'Canada', 'Seatbelt', 4421)\n",
      "(Decimal('50.29'), 'Canada', 'Other', 4371)\n",
      "(Decimal('49.99'), 'USA', 'Signal', 4341)\n",
      "(Decimal('49.94'), 'Canada', 'Speeding', 4375)\n",
      "(Decimal('49.83'), 'USA', 'Speeding', 4417)\n",
      "(Decimal('49.66'), 'USA', 'DUI', 4241)\n",
      "(Decimal('49.29'), 'India', 'Other', 4431)\n",
      "(Decimal('49.18'), 'Canada', 'Signal', 4327)\n",
      "(Decimal('48.59'), 'USA', 'Other', 4392)\n"
     ]
    }
   ],
   "source": [
    "#What is the arrest rate by country and violation?\n",
    "query=\"\"\"SELECT\n",
    "ROUND(SUM(CASE WHEN IS_ARRESTED= TRUE THEN 1 ELSE 0 END)*100/COUNT(*),2) AS ARREST_RATE,\n",
    "COUNTRY_NAME,VIOLATION,COUNT(*) AS TOTAL_STOPS\n",
    "FROM POLICE_LOGS\n",
    "GROUP BY COUNTRY_NAME,VIOLATION\n",
    "ORDER BY ARREST_RATE DESC\n",
    "\"\"\"\n",
    "cursor.execute(query)\n",
    "for data in cursor:\n",
    "    print(data)"
   ]
  },
  {
   "cell_type": "code",
   "execution_count": 283,
   "id": "71968f81",
   "metadata": {},
   "outputs": [
    {
     "name": "stdout",
     "output_type": "stream",
     "text": [
      "('Canada', 11020)\n"
     ]
    }
   ],
   "source": [
    "#Which country has the most stops with search conducted?\n",
    "query=\"\"\"SELECT \n",
    "COUNTRY_NAME,COUNT(*) AS TOTAL_SEARCH_CONDUCTED_STOPS\n",
    "FROM POLICE_LOGS\n",
    "WHERE SEARCH_CONDUCTED=TRUE\n",
    "GROUP BY COUNTRY_NAME\n",
    "ORDER BY TOTAL_SEARCH_CONDUCTED_STOPS DESC\n",
    "LIMIT 1\n",
    "\"\"\"\n",
    "cursor.execute(query)\n",
    "for data in cursor:\n",
    "    print(data)"
   ]
  },
  {
   "cell_type": "markdown",
   "id": "aa37c249",
   "metadata": {},
   "source": [
    "Complex Queries"
   ]
  },
  {
   "cell_type": "code",
   "execution_count": 10,
   "id": "8258e70f",
   "metadata": {},
   "outputs": [
    {
     "name": "stdout",
     "output_type": "stream",
     "text": [
      "('Canada', 2020, 21908, Decimal('10999'), Decimal('50.21'), 1)\n",
      "('India', 2020, 21998, Decimal('11091'), Decimal('50.42'), 1)\n",
      "('USA', 2020, 21632, Decimal('10756'), Decimal('49.72'), 1)\n"
     ]
    }
   ],
   "source": [
    "#Yearly Breakdown of Stops and Arrests by Country (Using Subquery and Window Functions)\n",
    "query=\"\"\"SELECT COUNTRY_NAME,YEAR,TOTAL_STOPS,TOTAL_ARREST,\n",
    "ROUND(100*TOTAL_ARREST/TOTAL_STOPS,2) AS ARREST_RATE,\n",
    "RANK() OVER(PARTITION BY COUNTRY_NAME ORDER BY YEAR) AS YEAR_RANK\n",
    "FROM\n",
    "(SELECT COUNTRY_NAME,YEAR(STOP_DATE) AS YEAR,\n",
    "COUNT(*) AS TOTAL_STOPS,\n",
    "SUM(CASE WHEN IS_ARRESTED= TRUE THEN 1 ELSE 0 END) AS TOTAL_ARREST\n",
    "FROM POLICE_LOGS \n",
    "GROUP BY COUNTRY_NAME,YEAR) AS YEAR_DATA\n",
    "\"\"\"\n",
    "cursor.execute(query)\n",
    "for data in cursor:\n",
    "    print(data)"
   ]
  },
  {
   "cell_type": "code",
   "execution_count": null,
   "id": "06aeeab2",
   "metadata": {},
   "outputs": [
    {
     "name": "stdout",
     "output_type": "stream",
     "text": [
      "('18-25', 'Black', 'Speeding', 365)\n",
      "('18-25', 'Black', 'Signal', 355)\n",
      "('18-25', 'Other', 'Seatbelt', 349)\n",
      "('18-25', 'Asian', 'Speeding', 348)\n",
      "('18-25', 'White', 'Signal', 347)\n",
      "('18-25', 'Hispanic', 'Other', 342)\n",
      "('18-25', 'White', 'Speeding', 334)\n",
      "('18-25', 'Hispanic', 'DUI', 333)\n",
      "('18-25', 'Black', 'Other', 332)\n",
      "('18-25', 'Other', 'Speeding', 332)\n",
      "('18-25', 'Other', 'Signal', 330)\n",
      "('18-25', 'Asian', 'Seatbelt', 330)\n",
      "('18-25', 'Other', 'Other', 325)\n",
      "('18-25', 'White', 'Other', 321)\n",
      "('18-25', 'White', 'Seatbelt', 316)\n",
      "('18-25', 'Black', 'DUI', 313)\n",
      "('18-25', 'Other', 'DUI', 312)\n",
      "('18-25', 'Hispanic', 'Seatbelt', 312)\n",
      "('18-25', 'Hispanic', 'Speeding', 311)\n",
      "('18-25', 'Asian', 'Other', 310)\n",
      "('18-25', 'White', 'DUI', 309)\n",
      "('18-25', 'Hispanic', 'Signal', 307)\n",
      "('18-25', 'Black', 'Seatbelt', 305)\n",
      "('18-25', 'Asian', 'DUI', 302)\n",
      "('18-25', 'Asian', 'Signal', 297)\n",
      "('26-40', 'Asian', 'Signal', 662)\n",
      "('26-40', 'Asian', 'Speeding', 652)\n",
      "('26-40', 'Hispanic', 'Seatbelt', 642)\n",
      "('26-40', 'Asian', 'DUI', 641)\n",
      "('26-40', 'White', 'Signal', 639)\n",
      "('26-40', 'Asian', 'Other', 637)\n",
      "('26-40', 'Other', 'Speeding', 636)\n",
      "('26-40', 'Asian', 'Seatbelt', 636)\n",
      "('26-40', 'White', 'Other', 633)\n",
      "('26-40', 'Other', 'DUI', 632)\n",
      "('26-40', 'Hispanic', 'Other', 630)\n",
      "('26-40', 'Black', 'Seatbelt', 626)\n",
      "('26-40', 'Hispanic', 'DUI', 625)\n",
      "('26-40', 'Other', 'Other', 624)\n",
      "('26-40', 'Black', 'Speeding', 623)\n",
      "('26-40', 'Other', 'Seatbelt', 621)\n",
      "('26-40', 'Black', 'DUI', 620)\n",
      "('26-40', 'Hispanic', 'Signal', 618)\n",
      "('26-40', 'Black', 'Signal', 616)\n",
      "('26-40', 'Hispanic', 'Speeding', 616)\n",
      "('26-40', 'White', 'Seatbelt', 614)\n",
      "('26-40', 'White', 'Speeding', 606)\n",
      "('26-40', 'White', 'DUI', 598)\n",
      "('26-40', 'Black', 'Other', 596)\n",
      "('26-40', 'Other', 'Signal', 571)\n",
      "('41-60', 'White', 'Speeding', 892)\n",
      "('41-60', 'White', 'Signal', 874)\n",
      "('41-60', 'Other', 'Signal', 867)\n",
      "('41-60', 'White', 'Other', 860)\n",
      "('41-60', 'Black', 'Speeding', 856)\n",
      "('41-60', 'Hispanic', 'Seatbelt', 855)\n",
      "('41-60', 'Black', 'Other', 854)\n",
      "('41-60', 'Other', 'Seatbelt', 851)\n",
      "('41-60', 'Black', 'DUI', 851)\n",
      "('41-60', 'Other', 'DUI', 844)\n",
      "('41-60', 'Black', 'Seatbelt', 843)\n",
      "('41-60', 'Hispanic', 'DUI', 835)\n",
      "('41-60', 'Asian', 'Other', 832)\n",
      "('41-60', 'Hispanic', 'Other', 831)\n",
      "('41-60', 'Asian', 'Signal', 828)\n",
      "('41-60', 'Hispanic', 'Signal', 825)\n",
      "('41-60', 'Asian', 'DUI', 824)\n",
      "('41-60', 'White', 'DUI', 823)\n",
      "('41-60', 'Hispanic', 'Speeding', 821)\n",
      "('41-60', 'Asian', 'Speeding', 813)\n",
      "('41-60', 'Asian', 'Seatbelt', 812)\n",
      "('41-60', 'White', 'Seatbelt', 810)\n",
      "('41-60', 'Other', 'Other', 810)\n",
      "('41-60', 'Other', 'Speeding', 804)\n",
      "('41-60', 'Black', 'Signal', 803)\n",
      "('60+', 'Black', 'DUI', 866)\n",
      "('60+', 'Asian', 'Speeding', 866)\n",
      "('60+', 'Asian', 'Other', 864)\n",
      "('60+', 'White', 'DUI', 861)\n",
      "('60+', 'Other', 'Other', 857)\n",
      "('60+', 'Other', 'Seatbelt', 856)\n",
      "('60+', 'Black', 'Other', 853)\n",
      "('60+', 'Asian', 'DUI', 846)\n",
      "('60+', 'White', 'Speeding', 845)\n",
      "('60+', 'Hispanic', 'Other', 845)\n",
      "('60+', 'Hispanic', 'Signal', 845)\n",
      "('60+', 'Other', 'Signal', 840)\n",
      "('60+', 'White', 'Other', 838)\n",
      "('60+', 'Asian', 'Signal', 833)\n",
      "('60+', 'Other', 'DUI', 832)\n",
      "('60+', 'Other', 'Speeding', 829)\n",
      "('60+', 'Black', 'Signal', 828)\n",
      "('60+', 'White', 'Signal', 827)\n",
      "('60+', 'Black', 'Seatbelt', 822)\n",
      "('60+', 'White', 'Seatbelt', 821)\n",
      "('60+', 'Hispanic', 'DUI', 808)\n",
      "('60+', 'Hispanic', 'Seatbelt', 808)\n",
      "('60+', 'Black', 'Speeding', 804)\n",
      "('60+', 'Hispanic', 'Speeding', 797)\n",
      "('60+', 'Asian', 'Seatbelt', 778)\n"
     ]
    }
   ],
   "source": [
    "#Driver Violation Trends Based on Age and Race (Join with Subquery)\n",
    "QUERY = \"\"\"\n",
    "WITH age_grouped AS (\n",
    "SELECT violation,driver_race,\n",
    "CASE WHEN driver_age < 18 THEN 'Under 18'\n",
    "WHEN driver_age BETWEEN 18 AND 25 THEN '18-25'\n",
    "WHEN driver_age BETWEEN 26 AND 40 THEN '26-40'\n",
    "WHEN driver_age BETWEEN 41 AND 60 THEN '41-60'\n",
    "ELSE '60+' \n",
    "END AS age_group\n",
    "FROM police_logs\n",
    ")\n",
    "SELECT \n",
    "ag.age_group,\n",
    "ag.driver_race,\n",
    "ag.violation,\n",
    "COUNT(*) AS total_violations\n",
    "FROM age_grouped ag\n",
    "GROUP BY ag.age_group, ag.driver_race, ag.violation\n",
    "ORDER BY ag.age_group, total_violations DESC;\n",
    "\"\"\"\n",
    "cursor.execute(QUERY)\n",
    "for row in cursor:\n",
    "    print(row)"
   ]
  },
  {
   "cell_type": "code",
   "execution_count": null,
   "id": "09e54eeb",
   "metadata": {},
   "outputs": [],
   "source": []
  },
  {
   "cell_type": "code",
   "execution_count": 298,
   "id": "87c98e82",
   "metadata": {},
   "outputs": [
    {
     "name": "stdout",
     "output_type": "stream",
     "text": [
      "(2020, 1, 0, 1860)\n",
      "(2020, 1, 1, 1860)\n",
      "(2020, 1, 2, 1860)\n",
      "(2020, 1, 3, 1860)\n",
      "(2020, 1, 4, 1860)\n",
      "(2020, 1, 5, 1860)\n",
      "(2020, 1, 6, 1860)\n",
      "(2020, 1, 7, 1860)\n",
      "(2020, 1, 8, 1860)\n",
      "(2020, 1, 9, 1860)\n",
      "(2020, 1, 10, 1860)\n",
      "(2020, 1, 11, 1860)\n",
      "(2020, 1, 12, 1860)\n",
      "(2020, 1, 13, 1860)\n",
      "(2020, 1, 14, 1860)\n",
      "(2020, 1, 15, 1860)\n",
      "(2020, 1, 16, 1860)\n",
      "(2020, 1, 17, 1860)\n",
      "(2020, 1, 18, 1860)\n",
      "(2020, 1, 19, 1860)\n",
      "(2020, 1, 20, 1860)\n",
      "(2020, 1, 21, 1860)\n",
      "(2020, 1, 22, 1860)\n",
      "(2020, 1, 23, 1860)\n",
      "(2020, 2, 0, 900)\n",
      "(2020, 2, 1, 900)\n",
      "(2020, 2, 2, 900)\n",
      "(2020, 2, 3, 900)\n",
      "(2020, 2, 4, 900)\n",
      "(2020, 2, 5, 900)\n",
      "(2020, 2, 6, 900)\n",
      "(2020, 2, 7, 900)\n",
      "(2020, 2, 8, 900)\n",
      "(2020, 2, 9, 900)\n",
      "(2020, 2, 10, 900)\n",
      "(2020, 2, 11, 900)\n",
      "(2020, 2, 12, 858)\n",
      "(2020, 2, 13, 840)\n",
      "(2020, 2, 14, 840)\n",
      "(2020, 2, 15, 840)\n",
      "(2020, 2, 16, 840)\n",
      "(2020, 2, 17, 840)\n",
      "(2020, 2, 18, 840)\n",
      "(2020, 2, 19, 840)\n",
      "(2020, 2, 20, 840)\n",
      "(2020, 2, 21, 840)\n",
      "(2020, 2, 22, 840)\n",
      "(2020, 2, 23, 840)\n"
     ]
    }
   ],
   "source": [
    "#Time Period Analysis of Stops (Joining with Date Functions) , Number of Stops by Year,Month, Hour of the Day\n",
    "QUERY=\"\"\"SELECT YEAR(STOP_DATE) AS YEAR, MONTH(STOP_DATE) AS MONTH, HOUR(STOP_TIME) AS HOUR,\n",
    "COUNT(*) AS TOTAL_STOPS\n",
    "FROM POLICE_LOGS\n",
    "GROUP BY YEAR,MONTH,HOUR\n",
    "ORDER BY YEAR,MONTH,HOUR\n",
    "\"\"\"\n",
    "cursor.execute(QUERY)\n",
    "for data in cursor:\n",
    "    print(data)"
   ]
  },
  {
   "cell_type": "code",
   "execution_count": 304,
   "id": "8634c827",
   "metadata": {},
   "outputs": [
    {
     "name": "stdout",
     "output_type": "stream",
     "text": [
      "('Seatbelt', 13007, Decimal('6562'), Decimal('50.45'), 1, Decimal('6573'), Decimal('50.53'), 2)\n",
      "('Speeding', 13150, Decimal('6573'), Decimal('49.98'), 2, Decimal('6598'), Decimal('50.17'), 3)\n",
      "('Other', 13194, Decimal('6576'), Decimal('49.84'), 3, Decimal('6516'), Decimal('49.39'), 5)\n",
      "('Signal', 13112, Decimal('6509'), Decimal('49.64'), 4, Decimal('6549'), Decimal('49.95'), 4)\n",
      "('DUI', 13075, Decimal('6481'), Decimal('49.57'), 5, Decimal('6610'), Decimal('50.55'), 1)\n"
     ]
    }
   ],
   "source": [
    "#Violations with High Search and Arrest Rates (Window Function)\n",
    "QUERY=\"\"\"SELECT VIOLATION, COUNT(*) AS TOTAL_STOP,\n",
    "SUM(CASE WHEN SEARCH_CONDUCTED=TRUE THEN 1 ELSE 0 END) AS TOTAL_SEARCH,\n",
    "ROUND(SUM(CASE WHEN SEARCH_CONDUCTED=TRUE THEN 1 ELSE 0 END)*100/COUNT(*),2) AS TOTAL_SEARCH_RATE,\n",
    "RANK() OVER (ORDER BY 1.0 * SUM(CASE WHEN SEARCH_CONDUCTED=TRUE THEN 1 ELSE 0 END)/COUNT(*) DESC) AS search_rank,\n",
    "SUM(CASE WHEN IS_ARRESTED=TRUE THEN 1 ELSE 0 END) AS TOTAL_ARREST,\n",
    "ROUND(SUM(CASE WHEN IS_ARRESTED=TRUE THEN 1 ELSE 0 END)*100/COUNT(*),2) AS TOTAL_ARREST_RATE,\n",
    "RANK() OVER (ORDER BY 1.0 * SUM(CASE WHEN is_arrested = TRUE THEN 1 ELSE 0 END) / COUNT(*) DESC) AS arrest_rank\n",
    "FROM POLICE_LOGS\n",
    "GROUP BY VIOLATION\n",
    "ORDER BY TOTAL_SEARCH_RATE DESC,TOTAL_ARREST_RATE DESC\n",
    "\"\"\"\n",
    "cursor.execute(QUERY)\n",
    "for data in cursor:\n",
    "    print(data)\n"
   ]
  },
  {
   "cell_type": "code",
   "execution_count": 8,
   "id": "1af9dc2a",
   "metadata": {},
   "outputs": [
    {
     "name": "stdout",
     "output_type": "stream",
     "text": [
      "('Canada', Decimal('49.1'), Decimal('10911'), Decimal('10997'), 21908, Decimal('4429'), Decimal('4342'), Decimal('4395'), Decimal('4344'), Decimal('4398'))\n",
      "('India', Decimal('49.1'), Decimal('10955'), Decimal('11043'), 21998, Decimal('4346'), Decimal('4418'), Decimal('4406'), Decimal('4451'), Decimal('4377'))\n",
      "('USA', Decimal('49.1'), Decimal('10791'), Decimal('10841'), 21632, Decimal('4393'), Decimal('4371'), Decimal('4205'), Decimal('4316'), Decimal('4347'))\n"
     ]
    }
   ],
   "source": [
    "#Driver Demographics by Country (Age, Gender, and Race)\n",
    "QUERY=\"\"\"SELECT \n",
    "    country_name,\n",
    "    ROUND(AVG(driver_age), 1) AS avg_age,\n",
    "    SUM(CASE WHEN driver_gender = 'M' THEN 1 ELSE 0 END) AS male_drivers,\n",
    "    SUM(CASE WHEN driver_gender = 'F' THEN 1 ELSE 0 END) AS female_drivers,\n",
    "    COUNT(*) AS total_drivers,\n",
    "    SUM(CASE WHEN driver_race = 'White' THEN 1 ELSE 0 END) AS white_drivers,\n",
    "    SUM(CASE WHEN driver_race = 'Black' THEN 1 ELSE 0 END) AS black_drivers,\n",
    "    SUM(CASE WHEN driver_race = 'Hispanic' THEN 1 ELSE 0 END) AS hispanic_drivers,\n",
    "    SUM(CASE WHEN driver_race = 'Asian' THEN 1 ELSE 0 END) AS asian_drivers,\n",
    "    SUM(CASE WHEN driver_race NOT IN ('White','Black','Hispanic','Asian') THEN 1 ELSE 0 END) AS other_race\n",
    "FROM police_logs\n",
    "GROUP BY country_name\n",
    "ORDER BY country_name\n",
    "\"\"\"\n",
    "cursor.execute(QUERY)\n",
    "for data in cursor:\n",
    "    print(data)\n"
   ]
  },
  {
   "cell_type": "code",
   "execution_count": 305,
   "id": "0363760b",
   "metadata": {},
   "outputs": [
    {
     "name": "stdout",
     "output_type": "stream",
     "text": [
      "('DUI', 13075, Decimal('50.55'))\n",
      "('Seatbelt', 13007, Decimal('50.53'))\n",
      "('Speeding', 13150, Decimal('50.17'))\n",
      "('Signal', 13112, Decimal('49.95'))\n",
      "('Other', 13194, Decimal('49.39'))\n"
     ]
    }
   ],
   "source": [
    "#Top 5 Violations with Highest Arrest Rates\n",
    "QUERY=\"\"\"SELECT VIOLATION,COUNT(*) AS TOTAL_STOPS,\n",
    "round(100*sum(case when IS_ARRESTED=TRUE then 1 else 0 end)/COUNT(*),2) AS ARREST_RATE\n",
    "FROM POLICE_LOGS\n",
    "GROUP BY VIOLATION\n",
    "ORDER BY ARREST_RATE DESC\n",
    "LIMIT 5\n",
    "\"\"\"\n",
    "cursor.execute(QUERY)\n",
    "for data in cursor:\n",
    "    print(data)"
   ]
  }
 ],
 "metadata": {
  "kernelspec": {
   "display_name": "Python 3",
   "language": "python",
   "name": "python3"
  },
  "language_info": {
   "codemirror_mode": {
    "name": "ipython",
    "version": 3
   },
   "file_extension": ".py",
   "mimetype": "text/x-python",
   "name": "python",
   "nbconvert_exporter": "python",
   "pygments_lexer": "ipython3",
   "version": "3.13.2"
  }
 },
 "nbformat": 4,
 "nbformat_minor": 5
}
